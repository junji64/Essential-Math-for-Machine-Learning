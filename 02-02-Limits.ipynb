{
  "cells": [
    {
      "metadata": {},
      "cell_type": "markdown",
      "source": "# Limits\nYou can use algebraeic methods to calculate the rate of change over a function interval by joining two points on the function with a secant line and measuring its slope. For example, a function might return the distance travelled by a cyclist in a period of time, and you can use a secant line to measure the average velocity between two points in time. However, this doesn't tell you the cyclist's vecolcity at any single point in time - just the average speed over an interval.\n\nTo find the cyclist's velocity at a specific point in time, you need the ability to find the slope of a curve at a given point. *Differential Calculus* enables us to do through the use of *derivatives*. We can use derivatives to find the slope at a specific *x* value by calculating a delta for *x<sub>1</sub>* and *x<sub>2</sub>* values that are infinitesimally close together - so you can think of it as measuring the slope of a tiny straight line that comprises part of the curve.\n\n## Introduction to Limits\nHowever, before we can jump straight into derivatives, we need to examine another aspect of differential calculus - the *limit* of a function; which helps us measure how a function's value changes as the *x<sub>2</sub>* value approaches *x<sub>1</sub>*\n\nTo better understand limits, let's take a closer look at our function, and note that although we graph the function as a line, it is in fact made up of individual points. Run the following cell to show the points that we've plotted for integer values of ***x*** - the line is created by interpolating the points in between:"
    },
    {
      "metadata": {
        "collapsed": true,
        "trusted": false
      },
      "cell_type": "code",
      "source": "%matplotlib inline\n\n# Here's the function\ndef f(x):\n    return x**2 + x\n\nfrom matplotlib import pyplot as plt\n\n# Create an array of x values from 0 to 10 to plot\nx = list(range(0, 11))\n\n# Get the corresponding y values from the function\ny = [f(i) for i in x] \n\n# Set up the graph\nplt.xlabel('x')\nplt.ylabel('f(x)')\nplt.grid()\n\n# Plot the function\nplt.plot(x,y, color='lightgrey', marker='o', markeredgecolor='green', markerfacecolor='green')\n\nplt.show()",
      "execution_count": null,
      "outputs": []
    },
    {
      "metadata": {},
      "cell_type": "markdown",
      "source": "We know from the function that the ***f(x)*** values are calculated by squaring the ***x*** value and adding ***x***, so we can easily calculate points in between and show them - run the following code to see this:"
    },
    {
      "metadata": {
        "collapsed": true,
        "trusted": false
      },
      "cell_type": "code",
      "source": "%matplotlib inline\n\n# Here's the function\ndef f(x):\n    return x**2 + x\n\nfrom matplotlib import pyplot as plt\n\n# Create an array of x values from 0 to 10 to plot\nx = list(range(0,5))\nx.append(4.25)\nx.append(4.5)\nx.append(4.75)\nx.append(5)\nx.append(5.25)\nx.append(5.5)\nx.append(5.75)\nx = x + list(range(6,11))\n\n# Get the corresponding y values from the function\ny = [f(i) for i in x] \n\n# Set up the graph\nplt.xlabel('x')\nplt.ylabel('f(x)')\nplt.grid()\n\n# Plot the function\nplt.plot(x,y, color='lightgrey', marker='o', markeredgecolor='green', markerfacecolor='green')\n\nplt.show()",
      "execution_count": null,
      "outputs": []
    },
    {
      "metadata": {},
      "cell_type": "markdown",
      "source": "Now we can see more clearly that this function line is formed of a continuous series of points, so theoretically for any given value of ***x*** there is a point on the line, and there is an adjacent point on either side with a value that is as close to ***x*** as possible, but not actually ***x***.\n\nRun the following code to visualize a specific point for *x = 5*, and try to identify the closest point either side of it:"
    },
    {
      "metadata": {
        "collapsed": true,
        "trusted": false
      },
      "cell_type": "code",
      "source": "%matplotlib inline\n\n# Here's the function\ndef f(x):\n    return x**2 + x\n\nfrom matplotlib import pyplot as plt\n\n# Create an array of x values from 0 to 10 to plot\nx = list(range(0,5))\nx.append(4.25)\nx.append(4.5)\nx.append(4.75)\nx.append(5)\nx.append(5.25)\nx.append(5.5)\nx.append(5.75)\nx = x + list(range(6,11))\n\n# Get the corresponding y values from the function\ny = [f(i) for i in x] \n\n# Set up the graph\nplt.xlabel('x')\nplt.ylabel('f(x)')\nplt.grid()\n\n# Plot the function\nplt.plot(x,y, color='lightgrey', marker='o', markeredgecolor='green', markerfacecolor='green')\n\nzx = 5\nzy = f(zx)\nplt.plot(zx, zy, color='red', marker='o', markersize=10)\nplt.annotate('x=' + str(zx),(zx, zy), xytext=(zx - 0.5, zy + 5))\n\n# Plot f(x) when x = 5.1\nposx = 5.25\nposy = f(posx)\nplt.plot(posx, posy, color='blue', marker='<', markersize=10)\nplt.annotate('x=' + str(posx),(posx, posy), xytext=(posx + 0.5, posy - 1))\n\n# Plot f(x) when x = 4.9\nnegx = 4.75\nnegy = f(negx)\nplt.plot(negx, negy, color='orange', marker='>', markersize=10)\nplt.annotate('x=' + str(negx),(negx, negy), xytext=(negx - 1.5, negy - 1))\n\nplt.show()",
      "execution_count": null,
      "outputs": []
    },
    {
      "metadata": {},
      "cell_type": "markdown",
      "source": "You can see the point where ***x*** is 5, and you can see that there are points shown on the graph that appear to be right next to this point (at *x=4.75* and *x=5.25*). However, if we zoomed in we'd see that there are still gaps that could be filled by other values of ***x*** that are even closer to 5; for example, 4.9 and 5.1, or 4.999 and 5.001. If we could zoom infinitely close to the line we'd see that no matter how close a value you use (for example, 4.999999999999), there is always a value that's fractionally closer (for example, 4.9999999999999).\n\nSo what we can say is that there is a hypothetical number that's as close as possible to our desired value of *x* without actually being *x*, but we can't express it as a real number. Instead, we express its symbolically as a *limit*, like this:\n\n\\begin{equation}\\lim_{x \\to 5} f(x)\\end{equation}\n\nThis is interpreted as *the limit of function f(x) as *x* approaches 5*."
    },
    {
      "metadata": {},
      "cell_type": "markdown",
      "source": "##  Limits and Continuity\nThe function ***f(x)*** is *continuous* for all real numbered values of ***x***. Put simply, this means that you can draw the line created by the function without lifting your pen (we'll look at a more formal definition later in this course).\n\nHowever, this isn't necessarily true of all functions. Consider function ***g(x)*** below: \n\n\\begin{equation}g(x) = -(\\frac{12}{2x})^{2}\\end{equation}\n\nThis function is a little more complex than the previous one, but the key thing to note is that it requires a division by *2x*. Now, ask yourself; what would happen if you applied this function to an *x* value of **0**?\n\nWell, 2 &bull; 2 is 0, and anything divided by 0 is *undefined*. So the *domain* of this function does not include 0; in other words, the function is defined when *x* is any real number such that *x is not equal to 0*. The function should therefore be written like this:\n\n\\begin{equation}g(x) = -(\\frac{12}{2x})^{2},\\;\\; x \\ne 0\\end{equation}\n\nSo why is this important? Let's investigate by running the following Python code to define the function and plot it for a set of arbitrary of values:"
    },
    {
      "metadata": {
        "collapsed": true,
        "scrolled": false,
        "trusted": false
      },
      "cell_type": "code",
      "source": "%matplotlib inline\n\n# Define function g\ndef g(x):\n    if x != 0:\n        return -(12/(2*x))**2\n    \n# Plot output from function g\nfrom matplotlib import pyplot as plt\n\n# Create an array of x values\nx = range(-20, 21)\n\n# Get the corresponding y values from the function\ny = [g(a) for a in x]\n\n# Set up the graph\nplt.xlabel('x')\nplt.ylabel('g(x)')\nplt.grid()\n\n# Plot x against g(x)\nplt.plot(x,y, color='green')\n\nplt.show()",
      "execution_count": null,
      "outputs": []
    },
    {
      "metadata": {},
      "cell_type": "markdown",
      "source": "Look closely at the plot, and note the gap the line where *x* = 0. This indicates that the function is not defined here.The *domain* of the function (it's set of possible input values) not include 0, and it's *range* (the set of possible output values) does not include a value for x=0.\n\nThis is a *non-continuous* function - in other words, it includes at least one gap when plotted (so you couldn't plot it by hand without lifting your pen). Specifically, the function is non-continuous at x=0.\n\nBy convention, when a non-continuous function is plotted, the points that form a continuous line (or *interval*) are shown as a line, and the end of each line where there is a discontinuity is shown as a circle, which is filled if the value at that point is included in the line and empty if the value is not included in the line.\n\nIn this case, the function produces two intervals with a gap between them where the function is not defined, so we can show the discontinuous point as an unfilled circle - run the following code to visualize this with Python:"
    },
    {
      "metadata": {
        "collapsed": true,
        "scrolled": false,
        "trusted": false
      },
      "cell_type": "code",
      "source": "%matplotlib inline\n\n# Define function g\ndef g(x):\n    if x != 0:\n        return -(12/(2*x))**2\n    \n# Plot output from function g\nfrom matplotlib import pyplot as plt\n\n# Create an array of x values\nx = range(-20, 21)\n\n\n# Get the corresponding y values from the function\ny = [g(a) for a in x]\n\n# Set up the graph\nplt.xlabel('x')\nplt.ylabel('g(x)')\nplt.grid()\n\n# Plot x against g(x)\nplt.plot(x,y, color='green')\n\n# plot a circle at the gap (or close enough anyway!)\nxy = (0,g(1))\nplt.annotate('O',xy, xytext=(-0.7, -37),fontsize=14,color='green')\n\nplt.show()",
      "execution_count": null,
      "outputs": []
    },
    {
      "metadata": {},
      "cell_type": "markdown",
      "source": "There are a number of reasons a function might be non-continuous. For example, consider the following function:\n\n\\begin{equation}h(x) = 2\\sqrt{x},\\;\\; x \\ge 0\\end{equation}\n\nApplying this function to a non-negative ***x*** value returns a valid output; but for any value where ***x*** is negative, the output is undefined, because the square root of a negative value is not a real number.\n\nHere's the Python to plot function ***h***:"
    },
    {
      "metadata": {
        "collapsed": true,
        "trusted": false
      },
      "cell_type": "code",
      "source": "%matplotlib inline\n\ndef h(x):\n    if x >= 0:\n        import numpy as np\n        return 2 * np.sqrt(x)\n\n# Plot output from function h\nfrom matplotlib import pyplot as plt\n\n# Create an array of x values\nx = range(-20, 21)\n\n# Get the corresponding y values from the function\ny = [h(a) for a in x]\n\n# Set up the graph\nplt.xlabel('x')\nplt.ylabel('h(x)')\nplt.grid()\n\n# Plot x against h(x)\nplt.plot(x,y, color='green')\n\n# plot a circle close enough to the h(-x) limit for our purposes!\nplt.plot(0, h(0), color='green', marker='o', markerfacecolor='green', markersize=10)\n\nplt.show()",
      "execution_count": null,
      "outputs": []
    },
    {
      "metadata": {},
      "cell_type": "markdown",
      "source": "Now, suppose we have a function like this:\n\n\\begin{equation}\nk(x) = \\begin{cases}\n  x + 20, & \\text{if } x \\le 0, \\\\\n  x - 100, & \\text{otherwise }\n\\end{cases}\n\\end{equation}\n\nIn this case, the function's domain includes all real numbers, but its output is still non-continuous because of the way different values are returned depending on the value of *x*. The *range* of possible outputs for *k(x &le; 0)* is &le; 20, and the range of output values for *k(x > 0)* is x > -100.\n\nLet's use Python to plot function ***k***:"
    },
    {
      "metadata": {
        "collapsed": true,
        "trusted": false
      },
      "cell_type": "code",
      "source": "%matplotlib inline\n\ndef k(x):\n    import numpy as np\n    if x <= 0:\n        return x + 20\n    else:\n        return x - 100\n\n# Plot output from function h\nfrom matplotlib import pyplot as plt\n\n# Create an array of x values for each non-contonuous interval\nx1 = range(-20, 1)\nx2 = range(1, 20)\n\n# Get the corresponding y values from the function\ny1 = [k(i) for i in x1]\ny2 = [k(i) for i in x2]\n\n# Set up the graph\nplt.xlabel('x')\nplt.ylabel('k(x)')\nplt.grid()\n\n# Plot x against k(x)\nplt.plot(x1,y1, color='green')\nplt.plot(x2,y2, color='green')\n\n# plot a circle at the interval ends\nplt.plot(0, k(0), color='green', marker='o', markerfacecolor='green', markersize=10)\nplt.plot(0, k(0.0001), color='green', marker='o', markerfacecolor='w', markersize=10)\n\nplt.show()",
      "execution_count": null,
      "outputs": []
    },
    {
      "metadata": {},
      "cell_type": "markdown",
      "source": "\n## Finding Limits of Functions Graphically\nSo the question arises, how do we find a value for the limit of a function at a specific point?\n\nLet's explore this function, ***a***:\n\n\\begin{equation}a(x) = x^{2} + 1\\end{equation}\n\nWe can start by plotting it:"
    },
    {
      "metadata": {
        "collapsed": true,
        "trusted": false
      },
      "cell_type": "code",
      "source": "%matplotlib inline\n\n# Define function a\ndef a(x):\n    return x**2 + 1\n\n\n# Plot output from function a\nfrom matplotlib import pyplot as plt\n\n# Create an array of x values\nx = range(-10, 11)\n\n# Get the corresponding y values from the function\ny = [a(i) for i in x]\n\n# Set up the graph\nplt.xlabel('x')\nplt.ylabel('a(x)')\nplt.grid()\n\n# Plot x against a(x)\nplt.plot(x,y, color='purple')\n\nplt.show()",
      "execution_count": null,
      "outputs": []
    },
    {
      "metadata": {},
      "cell_type": "markdown",
      "source": "Note that this function is continuous at all points, there are no gaps in its range. However, the range of the function is *{a(x) &ge; 1}* (in other words, all real numbers that are greater than or equal to 1). For negative values of ***x***, the function appears to return ever-decreasing values as ***x*** gets closer to 0, and for positive values of ***x***, the function appears to return ever-increasing values as ***x*** gets further from 0; but it never returns 0.\n\nLet's plot the function for an ***x*** value of 0 and find out what the ***a(0)*** value is returned:"
    },
    {
      "metadata": {
        "collapsed": true,
        "trusted": false
      },
      "cell_type": "code",
      "source": "%matplotlib inline\n\n# Define function a\ndef a(x):\n    return x**2 + 1\n\n\n# Plot output from function a\nfrom matplotlib import pyplot as plt\n\n# Create an array of x values\nx = range(-10, 11)\n\n# Get the corresponding y values from the function\ny = [a(i) for i in x]\n\n# Set up the graph\nplt.xlabel('x')\nplt.ylabel('a(x)')\nplt.grid()\n\n# Plot x against a(x)\nplt.plot(x,y, color='purple')\n\n# Plot a(x) when x = 0\nzx = 0\nzy = a(zx)\nplt.plot(zx, zy, color='red', marker='o', markersize=10)\nplt.annotate(str(zy),(zx, zy), xytext=(zx, zy + 5))\n\nplt.show()",
      "execution_count": null,
      "outputs": []
    },
    {
      "metadata": {},
      "cell_type": "markdown",
      "source": "OK, so ***a(0)*** returns **1**.\n\nWhat happens if we use ***x*** values that are very slightly higher or lower than 0?"
    },
    {
      "metadata": {
        "collapsed": true,
        "trusted": false
      },
      "cell_type": "code",
      "source": "%matplotlib inline\n\n# Define function a\ndef a(x):\n    return x**2 + 1\n\n\n# Plot output from function a\nfrom matplotlib import pyplot as plt\n\n# Create an array of x values\nx = range(-10, 11)\n\n# Get the corresponding y values from the function\ny = [a(i) for i in x]\n\n# Set up the graph\nplt.xlabel('x')\nplt.ylabel('a(x)')\nplt.grid()\n\n# Plot x against a(x)\nplt.plot(x,y, color='purple')\n\n# Plot a(x) when x = 0.1\nposx = 0.1\nposy = a(posx)\nplt.plot(posx, posy, color='blue', marker='<', markersize=10)\nplt.annotate(str(posy),(posx, posy), xytext=(posx + 1, posy))\n\n# Plot a(x) when x = -0.1\nnegx = -0.1\nnegy = a(negx)\nplt.plot(negx, negy, color='orange', marker='>', markersize=10)\nplt.annotate(str(negy),(negx, negy), xytext=(negx - 2, negy))\n\nplt.show()",
      "execution_count": null,
      "outputs": []
    },
    {
      "metadata": {},
      "cell_type": "markdown",
      "source": "These ***x*** values return ***a(x)*** values that are just slightly above 1, and if we were to keep plotting numbers that are increasingly close to 0, for example 0.0000000001 or -0.0000000001, the function would still return a value that is just slightly greater than 1. The limit of function *a(x)* as *x* approaches 0, is 1; and the notation to indicate this is:\n\n\\begin{equation}\\lim_{x \\to 0} a(x) = 1 \\end{equation}\n\nThis reflects a more formal definition of function continuity. Previously, we stated that a function is continuous at a point if you can draw it at that point without lifting your pen. The more mathematical definition is that a function is continuous at a point if the limit of the function as it approaches that point from both directions is equal to the function's value at that point. In this case, as we approach x = 0 from both sides, the limit is 1; and the value of *a(0)* is also 1; so the function is continuous at x = 0."
    },
    {
      "metadata": {},
      "cell_type": "markdown",
      "source": "### Limits at Non-Continuous Points\nLet's try another function, which we'll call ***b***:\n\n\\begin{equation}b(x) = -2x^{2} \\cdot \\frac{1}{x},\\;\\;x\\ne0\\end{equation}\n\nNote that this function has a domain that includes all real number values of *x* such that *x* does not equal 0. In other words, the function will return a valid output for any number other than 0.\n\nLet's create it and plot it with Python:"
    },
    {
      "metadata": {
        "collapsed": true,
        "trusted": false
      },
      "cell_type": "code",
      "source": "%matplotlib inline\n\n# Define function b\ndef b(x):\n    if x != 0:\n        return (-2*x**2) * 1/x\n\n\n# Plot output from function g\nfrom matplotlib import pyplot as plt\n\n# Create an array of x values\nx = range(-10, 11)\n\n# Get the corresponding y values from the function\ny = [b(i) for i in x]\n\n# Set up the graph\nplt.xlabel('x')\nplt.ylabel('b(x)')\nplt.grid()\n\n# Plot x against b(x)\nplt.plot(x,y, color='purple')\n\nplt.show()",
      "execution_count": null,
      "outputs": []
    },
    {
      "metadata": {},
      "cell_type": "markdown",
      "source": "The output from this function contains a gap in the line where x = 0. It seems that not only does the *domain* of the function (the values that can be passed in as *x*) exclude 0; but the *range* of the function (the set of values that can be returned from it) also excludes 0.\n\nWe can't evaluate the function for an *x* value of 0, but we can see what it returns for a value that is just very slightly less than 0:"
    },
    {
      "metadata": {
        "collapsed": true,
        "trusted": false
      },
      "cell_type": "code",
      "source": "%matplotlib inline\n\n# Define function b\ndef b(x):\n    if x != 0:\n        return (-2*x**2) * 1/x\n\n\n# Plot output from function g\nfrom matplotlib import pyplot as plt\n\n# Create an array of x values\nx = range(-10, 11)\n\n# Get the corresponding y values from the function\ny = [b(i) for i in x]\n\n# Set up the graph\nplt.xlabel('x')\nplt.ylabel('b(x)')\nplt.grid()\n\n# Plot x against b(x)\nplt.plot(x,y, color='purple')\n\n# Plot b(x) for x = -0.1\nnegx = -0.1\nnegy = b(negx)\nplt.plot(negx, negy, color='orange', marker='>', markersize=10)\nplt.annotate(str(negy),(negx, negy), xytext=(negx + 1, negy))\n\nplt.show()",
      "execution_count": null,
      "outputs": []
    },
    {
      "metadata": {},
      "cell_type": "markdown",
      "source": "We can even try a negative *x* value that's a little closer to 0."
    },
    {
      "metadata": {
        "collapsed": true,
        "trusted": false
      },
      "cell_type": "code",
      "source": "%matplotlib inline\n\n# Define function b\ndef b(x):\n    if x != 0:\n        return (-2*x**2) * 1/x\n\n\n# Plot output from function g\nfrom matplotlib import pyplot as plt\n\n# Create an array of x values\nx = range(-10, 11)\n\n# Get the corresponding y values from the function\ny = [b(i) for i in x]\n\n# Set up the graph\nplt.xlabel('x')\nplt.ylabel('b(x)')\nplt.grid()\n\n# Plot x against b(x)\nplt.plot(x,y, color='purple')\n\n# Plot b(x) for x = -0.0001\nnegx = -0.0001\nnegy = b(negx)\nplt.plot(negx, negy, color='orange', marker='>', markersize=10)\nplt.annotate(str(negy),(negx, negy), xytext=(negx + 1, negy))\n\nplt.show()",
      "execution_count": null,
      "outputs": []
    },
    {
      "metadata": {},
      "cell_type": "markdown",
      "source": "So as the value of *x* gets closer to 0 from the left (negative), the value of *b(x)* is decreasing towards 0. We can show this with the following notation:\n\n\\begin{equation}\\lim_{x \\to 0^{-}} b(x) = 0 \\end{equation}\n\nNote that the arrow points to 0<sup>-</sup> (with a minus sign) to indicate that we're describing the limit as we approach 0 from the negative side.\n\nSo what about the positive side?\n\nLet's see what the function value is when *x* is 0.1:"
    },
    {
      "metadata": {
        "collapsed": true,
        "trusted": false
      },
      "cell_type": "code",
      "source": "%matplotlib inline\n\n# Define function b\ndef b(x):\n    if x != 0:\n        return (-2*x**2) * 1/x\n\n\n# Plot output from function g\nfrom matplotlib import pyplot as plt\n\n# Create an array of x values\nx = range(-10, 11)\n\n# Get the corresponding y values from the function\ny = [b(i) for i in x]\n\n# Set up the graph\nplt.xlabel('x')\nplt.ylabel('b(x)')\nplt.grid()\n\n# Plot x against b(x)\nplt.plot(x,y, color='purple')\n\n# Plot b(x) for x = 0.1\nposx = 0.1\nposy = b(posx)\nplt.plot(posx, posy, color='blue', marker='<', markersize=10)\nplt.annotate(str(posy),(posx, posy), xytext=(posx + 1, posy))\n\nplt.show()",
      "execution_count": null,
      "outputs": []
    },
    {
      "metadata": {},
      "cell_type": "markdown",
      "source": "What happens if we decrease the value of *x* so that it's even closer to 0?"
    },
    {
      "metadata": {
        "collapsed": true,
        "trusted": false
      },
      "cell_type": "code",
      "source": "%matplotlib inline\n\n# Define function b\ndef b(x):\n    if x != 0:\n        return (-2*x**2) * 1/x\n\n\n# Plot output from function g\nfrom matplotlib import pyplot as plt\n\n# Create an array of x values\nx = range(-10, 11)\n\n# Get the corresponding y values from the function\ny = [b(i) for i in x]\n\n# Set up the graph\nplt.xlabel('x')\nplt.ylabel('b(x)')\nplt.grid()\n\n# Plot x against b(x)\nplt.plot(x,y, color='purple')\n\n# Plot b(x) for x = 0.0001\nposx = 0.0001\nposy = b(posx)\nplt.plot(posx, posy, color='blue', marker='<', markersize=10)\nplt.annotate(str(posy),(posx, posy), xytext=(posx + 1, posy))\n\nplt.show()",
      "execution_count": null,
      "outputs": []
    },
    {
      "metadata": {},
      "cell_type": "markdown",
      "source": "As with the negative side, as *x* approaches 0 from the positive side, the value of *b(x)* gets closer to 0; and we can show that like this:\n\n\\begin{equation}\\lim_{x \\to 0^{+}} b(x) = 0 \\end{equation}\n\nNow, even although the function is not defined at x = 0; since the limit as we approach x = 0 from the negative side is 0, and the limit when we approach x = 0 from the positive side is also 0; we can say that the overall, or *two-sided* limit for the function at x = 0 is 0:\n\n\\begin{equation}\\lim_{x \\to 0} b(x) = 0 \\end{equation}\n\nSo can we therefore just ignore the gap and say that the function is *continuous* at x = 0? Well, recall that the formal definition for continuity is that to be continuous at a point, the function's limit as we approach the point in both directions must be equal to the function's value at that point. In this case, the two-sided limit as we approach x = 0 is 0, but *b(0)* is not defined; so the function is ***non-continuous*** at x = 0."
    },
    {
      "metadata": {},
      "cell_type": "markdown",
      "source": "### One-Sided Limits\nLet's take a look at a different function. We'll call this one ***c***:\n\n\\begin{equation}\nc(x) = \\begin{cases}\n  x + 20, & \\text{if } x \\le 0, \\\\\n  x - 100, & \\text{otherwise }\n\\end{cases}\n\\end{equation}\n\nIn this case, the function's domain includes all real numbers, but its range is still non-continuous because of the way different values are returned depending on the value of *x*. The range of possible outputs for *c(x &le; 0)* is &le; 20, and the range of output values for *c(x > 0)* is x &ge; -100.\n\nLet's use Python to plot function ***c*** with some values for *c(x)* marked on the line"
    },
    {
      "metadata": {
        "collapsed": true,
        "trusted": false
      },
      "cell_type": "code",
      "source": "%matplotlib inline\n\ndef c(x):\n    import numpy as np\n    if x <= 0:\n        return x + 20\n    else:\n        return x - 100\n\n# Plot output from function h\nfrom matplotlib import pyplot as plt\n\n# Create arrays of x values\nx1 = range(-20, 6)\nx2 = range(6, 21)\n\n# Get the corresponding y values from the function\ny1 = [c(i) for i in x1]\ny2 = [c(i) for i in x2]\n\n# Set up the graph\nplt.xlabel('x')\nplt.ylabel('c(x)')\nplt.grid()\n\n# Plot x against c(x)\nplt.plot(x1,y1, color='purple')\nplt.plot(x2,y2, color='purple')\n\n# plot a circle close enough to the c limits for our purposes!\nplt.plot(5, c(5), color='purple', marker='o', markerfacecolor='purple', markersize=10)\nplt.plot(5, c(5.001), color='purple', marker='o', markerfacecolor='w', markersize=10)\n\n# plot some points from the +ve direction\nposx = [20, 15, 10, 6]\nposy = [c(i) for i in posx]\nplt.scatter(posx, posy, color='blue', marker='<', s=70)\nfor p in posx:\n    plt.annotate(str(c(p)),(p, c(p)),xytext=(p, c(p) + 5))\n    \n# plot some points from the -ve direction\nnegx = [-15, -10, -5, 0, 4]\nnegy = [c(i) for i in negx]\nplt.scatter(negx, negy, color='orange', marker='>', s=70)\nfor n in negx:\n    plt.annotate(str(c(n)),(n, c(n)),xytext=(n, c(n) + 5))\n\nplt.show()",
      "execution_count": null,
      "outputs": []
    },
    {
      "metadata": {},
      "cell_type": "markdown",
      "source": "The plot of the function shows a line in which the *c(x)* value increases towards 25 as *x* approaches 5 from the negative side:\n\n\\begin{equation}\\lim_{x \\to 5^{-}} c(x) = 25 \\end{equation}\n\nHowever, the *c(x)* value decreases towards -95 as *x* approaches 5 from the positive side:\n\n\\begin{equation}\\lim_{x \\to 5^{+}} c(x) = -95 \\end{equation}\n\nSo what can we say about the two-sided limit of this function at x = 5?\n\nThe limit as we approach x = 5 from the negative side is *not* equal to the limit as we approach x = 5 from the positive side, so no two-sided limit exists for this function at that point:\n\n\\begin{equation}\\lim_{x \\to 5} \\text{does not exist} \\end{equation}"
    },
    {
      "metadata": {},
      "cell_type": "markdown",
      "source": "### Asymptotes and Infinity\nOK, time to look at another function:\n\n\\begin{equation}d(x) = \\frac{4}{x - 25},\\;\\; x \\ne 25\\end{equation}"
    },
    {
      "metadata": {
        "collapsed": true,
        "trusted": false
      },
      "cell_type": "code",
      "source": "%matplotlib inline\n\n# Define function d\ndef d(x):\n    if x != 25:\n        return 4 / (x - 25)\n\n\n# Plot output from function d\nfrom matplotlib import pyplot as plt\n\n# Create an array of x values\nx = list(range(-100, 24))\nx.append(24.9) # Add some fractional x\nx.append(25)   # values around\nx.append(25.1) # 25 for finer-grain results\nx = x + list(range(26, 101))\n# Get the corresponding y values from the function\ny = [d(i) for i in x]\n\n# Set up the graph\nplt.xlabel('x')\nplt.ylabel('d(x)')\nplt.grid()\n\n# Plot x against d(x)\nplt.plot(x,y, color='purple')\n\nplt.show()",
      "execution_count": null,
      "outputs": []
    },
    {
      "metadata": {},
      "cell_type": "markdown",
      "source": "What's the limit of *d* as *x* approaches 25?\n\nWe can plot a few points to help us:"
    },
    {
      "metadata": {
        "collapsed": true,
        "trusted": false
      },
      "cell_type": "code",
      "source": "%matplotlib inline\n\n# Define function d\ndef d(x):\n    if x != 25:\n        return 4 / (x - 25)\n\n\n# Plot output from function d\nfrom matplotlib import pyplot as plt\n\n# Create an array of x values\nx = list(range(-100, 24))\nx.append(24.9) # Add some fractional x\nx.append(25)   # values around\nx.append(25.1) # 25 for finer-grain results\nx = x + list(range(26, 101))\n# Get the corresponding y values from the function\ny = [d(i) for i in x]\n\n# Set up the graph\nplt.xlabel('x')\nplt.ylabel('d(x)')\nplt.grid()\n\n# Plot x against d(x)\nplt.plot(x,y, color='purple')\n\n# plot some points from the +ve direction\nposx = [75, 50, 30, 25.5, 25.2, 25.1]\nposy = [d(i) for i in posx]\nplt.scatter(posx, posy, color='blue', marker='<')\nfor p in posx:\n    plt.annotate(str(d(p)),(p, d(p)))\n    \n# plot some points from the -ve direction\nnegx = [-55, 0, 23, 24.5, 24.8, 24.9]\nnegy = [d(i) for i in negx]\nplt.scatter(negx, negy, color='orange', marker='>')\nfor n in negx:\n    plt.annotate(str(d(n)),(n, d(n)))\n\nplt.show()",
      "execution_count": null,
      "outputs": []
    },
    {
      "metadata": {
        "collapsed": true
      },
      "cell_type": "markdown",
      "source": "From these plotted values, we can see that as *x* approaches 25 from the negative side, *d(x)* is decreasing, and as *x* approaches 25 from the positive side, *d(x)* is increasing. As *x* gets closer to 25, *d(x)* increases or decreases more significantly.\n\nIf we were to plot every fractional value of *d(x)* for *x* values between 24.9 and 25, we'd see a line that decreases indefintely, getting closer and closer to the x = 25 vertical line, but never actually reaching it. Similarly, plotting every *x* value between 25 and 25.1 would result in a line going up indefinitely, but always staying to the right of the vertical x = 25 line.\n\nThe x = 25 line in this case is an *asymptote* - a line to which a curve moves ever closer but never actually reaches. The positive limit for x = 25 in this case in not a real numbered value, but *infinity*:\n\n\\begin{equation}\\lim_{x \\to 25^{+}} d(x) = \\infty \\end{equation}\n\nConversely, the negative limit for x = 25 is negative infinity:\n\n\\begin{equation}\\lim_{x \\to 25^{-}} d(x) = -\\infty \\end{equation}\n\n"
    },
    {
      "metadata": {},
      "cell_type": "markdown",
      "source": "## Finding Limits Numerically Using a Table\nUp to now, we've estimated limits for a point graphically by examining a graph of a function. You can also approximate limits by creating a table of x values and the corresponding function values either side of the point for which you want to find the limits.\n\nFor example, let's return to our ***a*** function:\n\n\\begin{equation}a(x) = x^{2} + 1\\end{equation}\n\nIf we want to find the limits as x is approaching 0, we can apply the function to some values either side of 0 and view them as a table. Here's some Python code to do that:"
    },
    {
      "metadata": {
        "collapsed": true,
        "trusted": false
      },
      "cell_type": "code",
      "source": "# Define function a\ndef a(x):\n    return x**2 + 1\n\n\nimport pandas as pd\n\n# Create a dataframe with an x column containing values either side of 0\ndf = pd.DataFrame ({'x': [-1, -0.5, -0.2, -0.1, -0.01, 0, 0.01, 0.1, 0.2, 0.5, 1]})\n\n# Add an a(x) column by applying the function to x\ndf['a(x)'] = a(df['x'])\n\n#Display the dataframe\ndf",
      "execution_count": null,
      "outputs": []
    },
    {
      "metadata": {},
      "cell_type": "markdown",
      "source": "Looking at the output, you can see that the function values are getting closer to 1 as x approaches 0 from both sides, so:\n\n\\begin{equation}\\lim_{x \\to 0} a(x) = 1 \\end{equation}\n\nAdditionally, you can see that the actual value of the function when x = 0 is also 1, so:\n\n\\begin{equation}\\lim_{x \\to 0} a(x) = a(0) \\end{equation}\n\nWhich according to our earlier definition, means that the function is continuous at 0.\n\nHowever, you should be careful not to assume that the limit when x is approaching 0 will always be the same as the value when x = 0; even when the function is defined for x = 0.\n\nFor example, consider the following function:\n\n\\begin{equation}\ne(x) = \\begin{cases}\n  5, & \\text{if } x = 0, \\\\\n  1 + x^{2}, & \\text{otherwise }\n\\end{cases}\n\\end{equation}\n\nLet's see what the function returns for *x* values either side of 0 in a table:"
    },
    {
      "metadata": {
        "collapsed": true,
        "trusted": false
      },
      "cell_type": "code",
      "source": "# Define function e\ndef e(x):\n    if x == 0:\n        return 5\n    else:\n        return 1 + x**2\n\nimport pandas as pd\n# Create a dataframe with an x column containing values either side of 0\nx= [-1, -0.5, -0.2, -0.1, -0.01, 0, 0.01, 0.1, 0.2, 0.5, 1]\ny =[e(i) for i in x]\ndf = pd.DataFrame ({' x':x, 'e(x)': y })\ndf",
      "execution_count": null,
      "outputs": []
    },
    {
      "metadata": {},
      "cell_type": "markdown",
      "source": "As before, you can see that as the *x* values approach 0 from both sides, the value of the function gets closer to 1, so:\n\n\\begin{equation}\\lim_{x \\to 0} e(x) = 1 \\end{equation}\n\nHowever the actual value of the function when x = 0 is 5, not 1; so:\n\n\\begin{equation}\\lim_{x \\to 0} e(x) \\ne e(0) \\end{equation}\n\nWhich according to our earlier definition, means that the function is non-continuous at 0.\n\nRun the following cell to see what this looks like as a graph:"
    },
    {
      "metadata": {
        "collapsed": true,
        "trusted": false
      },
      "cell_type": "code",
      "source": "%matplotlib inline\n\n# Define function e\ndef e(x):\n    if x == 0:\n        return 5\n    else:\n        return 1 + x**2\n\nfrom matplotlib import pyplot as plt\n\nx= [-1, -0.5, -0.2, -0.1, -0.01, 0.01, 0.1, 0.2, 0.5, 1]\ny =[e(i) for i in x]\n\n# Set up the graph\nplt.xlabel('x')\nplt.ylabel('e(x)')\nplt.grid()\n\n# Plot x against e(x)\nplt.plot(x, y, color='purple')\n# (we're cheating slightly - we'll manually plot the discontinous point...)\nplt.scatter(0, e(0), color='purple')\n# (... and overplot the gap)\nplt.plot(0, 1, color='purple', marker='o', markerfacecolor='w', markersize=10)\nplt.show()",
      "execution_count": null,
      "outputs": []
    },
    {
      "metadata": {
        "collapsed": true
      },
      "cell_type": "markdown",
      "source": "## Determining Limits Analytically\nWe've seen how to estimate limits visually on a graph, and by creating a table of *x* and *f(x)* values either side of a point. There are also some mathematical techniques we can use to calculate limits.\n\n### Direct Substitution\nRecall that our definition for a function to be continuous at a point is that the two-directional limit must exist and that it must be equal to the function value at that point. It therefore follows, that if we know that a function is continuous at a given point, we can determine the limit simply by evaluating the function for that point.\n\nFor example, let's consider the following function ***g***:\n\n\\begin{equation}g(x) = \\frac{x^{2} - 1}{x - 1}, x \\ne 1\\end{equation}\n\nRun the following code to see this function as a graph:"
    },
    {
      "metadata": {
        "collapsed": true,
        "trusted": false
      },
      "cell_type": "code",
      "source": "%matplotlib inline\n\n# Define function f\ndef g(x):\n    if x != 1:\n        return (x**2 - 1) / (x - 1)\n\n\n# Plot output from function g\nfrom matplotlib import pyplot as plt\n\n# Create an array of x values\nx= range(-20, 21)\ny =[g(i) for i in x]\n\n# Set up the graph\nplt.xlabel('x')\nplt.ylabel('g(x)')\nplt.grid()\n\n# Plot x against g(x)\nplt.plot(x,y, color='purple')\n\nplt.show()",
      "execution_count": null,
      "outputs": []
    },
    {
      "metadata": {},
      "cell_type": "markdown",
      "source": "Now, suppose we need to find the limit of ***g(x)*** as ***x*** approaches **4**. We can try to find this by simply substituting 4 for the *x* values in the function:\n\n\\begin{equation}g(4) = \\frac{4^{2} - 1}{4 - 1}\\end{equation}\n\nThis simplifies to:\n\n\\begin{equation}g(4) = \\frac{15}{3}\\end{equation}\n\nSo:\n\n\\begin{equation}\\lim_{x \\to 4} g(x) = 5\\end{equation}\n\nLet's take a look:"
    },
    {
      "metadata": {
        "collapsed": true,
        "trusted": false
      },
      "cell_type": "code",
      "source": "%matplotlib inline\n\n# Define function g\ndef g(x):\n    if x != 1:\n        return (x**2 - 1) / (x - 1)\n\n\n# Plot output from function f\nfrom matplotlib import pyplot as plt\n\n# Create an array of x values\nx= range(-20, 21)\ny =[g(i) for i in x]\n\n# Set the x point we're interested in\nzx = 4\n\nplt.xlabel('x')\nplt.ylabel('g(x)')\nplt.grid()\n\n# Plot x against g(x)\nplt.plot(x,y, color='purple')\n\n# Plot g(x) when x = 0\nzy = g(zx)\nplt.plot(zx, zy, color='red', marker='o', markersize=10)\nplt.annotate(str(zy),(zx, zy), xytext=(zx - 2, zy + 1))\n\nplt.show()\n\nprint ('Limit as x -> ' + str(zx) + ' = ' + str(zy))",
      "execution_count": null,
      "outputs": []
    },
    {
      "metadata": {},
      "cell_type": "markdown",
      "source": "### Factorization\nOK, now let's try to find the limit of ***g(x)*** as ***x*** approaches **1**.\n\nWe know from the function definition that the function is not defined at x = 1, but we're not trying to find the *value* of ***g(x)*** when x *equals* 1; we're trying to find the *limit* of ***g(x)*** as x *approaches* 1.\n\nThe direct substitution approach won't work in this case:\n\n\\begin{equation}g(1) = \\frac{1^{2} - 1}{1 - 1}\\end{equation}\n\nSimplifies to:\n\n\\begin{equation}g(1) = \\frac{0}{0}\\end{equation}\n\nAnything divided by 0 is undefined; so all we've done is to confirm that the function is not defined at this point. You might be tempted to assume that this means the limit does not exist, but <sup>0</sup>/<sub>0</sub> is a special case; it's what's known as the *indeterminate form*; and there may be a way to solve this problem another way.\n\nWe can factor the *x<sup>2</sup> - 1* numerator in the definition of ***g*** as as *(x - 1)(x + 1)*, so the limit equation can we rewritten like this:\n\n\\begin{equation}\\lim_{x \\to a} g(x) = \\frac{(x-1)(x+1)}{x - 1}\\end{equation}\n\nThe ***x - 1*** in the numerator and the ***x - 1*** in the denominator cancel each other out:\n\n\\begin{equation}\\lim_{x \\to a} g(x)= x+1\\end{equation}\n\nSo we can now use substitution for *x = 1* to calculate the limit as *1 + 1*:\n\n\\begin{equation}\\lim_{x \\to 1} g(x) = 2\\end{equation}\n\nLet's see what that looks like:"
    },
    {
      "metadata": {
        "collapsed": true,
        "trusted": false
      },
      "cell_type": "code",
      "source": "%matplotlib inline\n\n# Define function g\ndef f(x):\n    if x != 1:\n        return (x**2 - 1) / (x - 1)\n\n\n# Plot output from function g\nfrom matplotlib import pyplot as plt\n\n# Create an array of x values\nx= range(-20, 21)\ny =[g(i) for i in x]\n\n# Set the x point we're interested in\nzx = 1\n\n# Calculate the limit of g(x) when x->zx using the factored equation\nzy = zx + 1\n\nplt.xlabel('x')\nplt.ylabel('g(x)')\nplt.grid()\n\n# Plot x against g(x)\nplt.plot(x,y, color='purple')\n\n# Plot the limit of g(x)\nzy = zx + 1\nplt.plot(zx, zy, color='red', marker='o', markersize=10)\nplt.annotate(str(zy),(zx, zy), xytext=(zx - 2, zy + 1))\n\nplt.show()\n\nprint ('Limit as x -> ' + str(zx) + ' = ' + str(zy))",
      "execution_count": null,
      "outputs": []
    },
    {
      "metadata": {},
      "cell_type": "markdown",
      "source": "### Rationalization\nLet's look at another function:\n\n\\begin{equation}h(x) = \\frac{\\sqrt{x} - 2}{x - 4}, x \\ne 4 \\text{ and } x \\ge 0\\end{equation}\n\nRun the following cell to plot this function as a graph:"
    },
    {
      "metadata": {
        "collapsed": true,
        "trusted": false
      },
      "cell_type": "code",
      "source": "%matplotlib inline\n\n# Define function h\ndef h(x):\n    import math\n    if x >= 0 and x != 4:\n        return (math.sqrt(x) - 2) / (x - 4)\n\n\n# Plot output from function h\nfrom matplotlib import pyplot as plt\n\n# Create an array of x values\nx= range(-20, 21)\ny =[h(i) for i in x]\n\n# Set up the graph\nplt.xlabel('x')\nplt.ylabel('h(x)')\nplt.grid()\n\n# Plot x against h(x)\nplt.plot(x,y, color='purple')\n\nplt.show()",
      "execution_count": null,
      "outputs": []
    },
    {
      "metadata": {},
      "cell_type": "markdown",
      "source": "To find the limit of ***h(x)*** as ***x*** approaches **4**, we can't use the direct substitution method because the function is not defined at that point. However, we can take an alternative approach by multiplying both the numerator and denominator in the function by the *conjugate* of the numerator to *rationalize* the square root term (a conjugate is a binomial formed by reversing the sign of the second term of a binomial):\n\n\\begin{equation}\\lim_{x \\to a}h(x) = \\frac{\\sqrt{x} - 2}{x - 4}\\cdot\\frac{\\sqrt{x} + 2}{\\sqrt{x} + 2}\\end{equation}\n\nThis simplifies to:\n\n\\begin{equation}\\lim_{x \\to a}h(x) = \\frac{(\\sqrt{x})^{2} - 2^{2}}{(x - 4)({\\sqrt{x} + 2})}\\end{equation}\n\nThe &radic;x<sup>2</sup> is x, and 2<sup>2</sup> is 4, so we can simplify the numerator as follows:\n\n\\begin{equation}\\lim_{x \\to a}h(x) = \\frac{x - 4}{(x - 4)({\\sqrt{x} + 2})}\\end{equation}\n\nNow we can cancel out the *x - 4* in both the numerator and denominator:\n\n\\begin{equation}\\lim_{x \\to a}h(x) = \\frac{1}{{\\sqrt{x} + 2}}\\end{equation}\n\nSo for x approaching 4, this is:\n\n\\begin{equation}\\lim_{x \\to 4}h(x) = \\frac{1}{{\\sqrt{4} + 2}}\\end{equation}\n\nThis simplifies to:\n\n\\begin{equation}\\lim_{x \\to 4}h(x) = \\frac{1}{2 + 2}\\end{equation}\n\nWhich is of course:\n\n\\begin{equation}\\lim_{x \\to 4}h(x) = \\frac{1}{4}\\end{equation}\n\nSo the limit of ***h(x)*** as ***x*** approaches **4** is <sup>1</sup>/<sub>4</sub> or 0.25.\n\nLet's calculate and plot this with Python:"
    },
    {
      "metadata": {
        "collapsed": true,
        "trusted": false
      },
      "cell_type": "code",
      "source": "%matplotlib inline\n\n# Define function h\ndef h(x):\n    import math\n    if x >= 0 and x != 4:\n        return (math.sqrt(x) - 2) / (x - 4)\n\n\n# Plot output from function h\nfrom matplotlib import pyplot as plt\n\n# Create an array of x values\nx= range(-20, 21)\ny =[h(i) for i in x]\n\n# Specify the point we're interested in\nzx = 4\n\n# Calculate the limit of f(x) when x->zx using factored equation\nimport math\nzy = 1 / ((math.sqrt(zx)) + 2)\n\nplt.xlabel('x')\nplt.ylabel('h(x)')\nplt.grid()\n\n# Plot x against h(x)\nplt.plot(x,y, color='purple')\n\n# Plot the limit of h(x) when x->zx                                    \nplt.plot(zx, zy, color='red', marker='o', markersize=10)\nplt.annotate(str(zy),(zx, zy), xytext=(zx + 2, zy))\n\nplt.show()\n\nprint ('Limit as x -> ' + str(zx) + ' = ' + str(zy))",
      "execution_count": null,
      "outputs": []
    },
    {
      "metadata": {},
      "cell_type": "markdown",
      "source": "## Rules for Limit Operations\nWhen you are working with functions and limits, you may want to combine limits using arithmetic operations. There are some intuitive rules for doing this.\n\nLet's define two simple functions, ***j***:\n\n\\begin{equation}j(x) = 2x - 2\\end{equation}\n\nand ***l***:\n\n\\begin{equation}l(x) = -2x + 4\\end{equation}\n\n\nRun the cell below to plot these functions:"
    },
    {
      "metadata": {
        "collapsed": true,
        "trusted": false
      },
      "cell_type": "code",
      "source": "%matplotlib inline\n\n# Define function j\ndef j(x):\n    return x * 2 - 2\n\n# Define function l\ndef l(x):\n    return -x * 2 + 4\n\n\n# Plot output from functions j and l\nfrom matplotlib import pyplot as plt\n\n# Create an array of x values\nx = range(-10, 11)\n\n# Get the corresponding y values from the functions\njy = [j(i) for i in x]\nly = [l(i) for i in x]\n\n# Set up the graph\nplt.xlabel('x')\nplt.xticks(range(-10,11, 1))\nplt.ylabel('y')\nplt.yticks(range(-30,30, 2))\nplt.grid()\n\n# Plot x against j(x)\nplt.plot(x,jy, color='green', label='j(x)')\n\n# Plot x against l(x)\nplt.plot(x,ly, color='magenta', label='l(x)')\n\nplt.legend()\n\nplt.show()\n",
      "execution_count": null,
      "outputs": []
    },
    {
      "metadata": {},
      "cell_type": "markdown",
      "source": "### Addition of Limits\n\nFirst, let's look at the rule for addition:\n\n\\begin{equation}\\lim_{x \\to a} (j(x) + l(x)) = \\lim_{x \\to a} j(x) + \\lim_{x \\to a} l(x)\\end{equation}\n\nWhat we're saying here, is that the limit of *j(x)* + *l(x)* as *x* approaches *a*, is the same as the limit of *j(x)* as *x* approaches *a* added to the limit of *l(x)* as *x* approaches *a*.\n\nLooking at the graph for our functions ***j*** and ***l***, let's apply this rule to an *a* value of **8**.\n\nBy visually inspecting the graph, you can see that as *x* approaches 8 from either direction, *j(x)* gets closer to 14, so:\n\n\\begin{equation}\\lim_{x \\to 8} j(x) = 14\\end{equation}\n\nSimilarly, as *x* approaches 8 from either direction, *l(x)* gets closer to -12, so:\n\n\\begin{equation}\\lim_{x \\to 8} l(x) = -12\\end{equation}\n\nSo based on the addition rule:\n\n\\begin{equation}\\lim_{x \\to 8} (j(x) + l(x)) = 14 + -12 = 2\\end{equation}\n\n### Subtraction of Limits\nHere's the rule for subtraction:\n\n\\begin{equation}\\lim_{x \\to a} (j(x) - l(x)) = \\lim_{x \\to a} j(x) - \\lim_{x \\to a} l(x)\\end{equation}\n\nAs you've probably noticed, this is consistent with the rule of addition. Based on an *a* value of 8 (and the limits we identified for this *a* value above), we can apply this rule like this:\n\n\\begin{equation}\\lim_{x \\to 8} (j(x) - l(x)) = 14 - -12 = 26\\end{equation}\n\n### Multiplication of Limits\nHere's the rule for multiplication:\n\n\\begin{equation}\\lim_{x \\to a} (j(x) \\cdot l(x)) = \\lim_{x \\to a} j(x) \\cdot \\lim_{x \\to a} l(x)\\end{equation}\n\nAgain, you can apply this to the limits as x approached an *a* value of 8 we identified previously:\n\n\\begin{equation}\\lim_{x \\to 8} (j(x) \\cdot l(x)) = 14 \\cdot -12 = -168\\end{equation}\n\nThis rule also applies to multipying a limit by a constant:\n\n\\begin{equation}\\lim_{x \\to a} c \\cdot l(x) = c \\cdot \\lim_{x \\to a} l(x)\\end{equation}\n\nSo for an *a* value of 8 and a constant *c* value of 3, this equates to:\n\n\\begin{equation}\\lim_{x \\to 8} 3 \\cdot l(x) = 3 \\cdot -12 = -36\\end{equation}\n\n\n### Division of Limits\nFor division, assuming the limit of *l(x)* when x is approaching *a* is not 0:\n\n\\begin{equation}\\lim_{x \\to a} \\frac{j(x)}{l(x)} = \\frac{\\lim_{x \\to a} j(x)}{\\lim_{x \\to a} l(x)}\\end{equation}\n\nSo, based on our limits for *j(x)* and *l(x*) when *x* approaches 8:\n\n\\begin{equation}\\lim_{x \\to 8} \\frac{j(x)}{l(x)} = \\frac{14}{-12}= \\frac{7}{-6}\\end{equation}\n\n### Limit Exponentials and Roots\n\nAssuming *n* is an integer:\n\n\\begin{equation}\\lim_{x \\to a} (j(x))^{n} = \\Big(\\lim_{x \\to a} j(x)\\Big)^{n}\\end{equation}\n\nSo for example:\n\n\\begin{equation}\\lim_{x \\to 8} (j(x))^{2} = \\Big(\\lim_{x \\to 8} j(x)\\Big)^{2} = 14^{2} = 196\\end{equation}\n\nFor roots, again assuming *n* is an integer:\n\n\\begin{equation}\\lim_{x \\to a} \\sqrt[n]{j(x)} = \\sqrt[n]{\\lim_{x \\to a} j(x)}\\end{equation}\n\nSo:\n\n\\begin{equation}\\lim_{x \\to 8} \\sqrt[2]{j(x)} = \\sqrt[2]{\\lim_{x \\to 8} j(x)} = \\sqrt[2]{14} \\approx 3.74\\end{equation}\n"
    }
  ],
  "metadata": {
    "kernelspec": {
      "name": "python3",
      "display_name": "Python 3",
      "language": "python"
    },
    "language_info": {
      "mimetype": "text/x-python",
      "nbconvert_exporter": "python",
      "name": "python",
      "file_extension": ".py",
      "version": "3.5.4",
      "pygments_lexer": "ipython3",
      "codemirror_mode": {
        "version": 3,
        "name": "ipython"
      }
    }
  },
  "nbformat": 4,
  "nbformat_minor": 2
}